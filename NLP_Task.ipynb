{
  "nbformat": 4,
  "nbformat_minor": 0,
  "metadata": {
    "colab": {
      "provenance": [],
      "gpuType": "T4"
    },
    "kernelspec": {
      "name": "python3",
      "display_name": "Python 3"
    },
    "language_info": {
      "name": "python"
    },
    "accelerator": "GPU",
    "gpuClass": "standard"
  },
  "cells": [
    {
      "cell_type": "markdown",
      "source": [
        "Importing Required libraries....\n"
      ],
      "metadata": {
        "id": "5mEbstmxO7bt"
      }
    },
    {
      "cell_type": "code",
      "source": [
        "import tensorflow as tf\n",
        "from tensorflow.keras.preprocessing.text import Tokenizer\n",
        "from tensorflow.keras.layers import Embedding, LSTM, Dense\n",
        "from tensorflow.keras.models import Sequential\n",
        "from tensorflow.keras.utils import to_categorical\n",
        "from tensorflow.keras.optimizers import Adam\n",
        "import pickle\n",
        "import numpy as np\n",
        "import os"
      ],
      "metadata": {
        "id": "lhvJ64sQPE_N"
      },
      "execution_count": 1,
      "outputs": []
    },
    {
      "cell_type": "code",
      "source": [
        "from google.colab import files\n",
        "uploaded = files.upload()"
      ],
      "metadata": {
        "colab": {
          "base_uri": "https://localhost:8080/",
          "height": 73
        },
        "id": "KoZY-AVkXPPL",
        "outputId": "b05b47a8-9913-4dce-b5fc-06ca2f5fd254"
      },
      "execution_count": 3,
      "outputs": [
        {
          "output_type": "display_data",
          "data": {
            "text/plain": [
              "<IPython.core.display.HTML object>"
            ],
            "text/html": [
              "\n",
              "     <input type=\"file\" id=\"files-b749b3a6-cf78-4fa1-99be-75474ac7f050\" name=\"files[]\" multiple disabled\n",
              "        style=\"border:none\" />\n",
              "     <output id=\"result-b749b3a6-cf78-4fa1-99be-75474ac7f050\">\n",
              "      Upload widget is only available when the cell has been executed in the\n",
              "      current browser session. Please rerun this cell to enable.\n",
              "      </output>\n",
              "      <script>// Copyright 2017 Google LLC\n",
              "//\n",
              "// Licensed under the Apache License, Version 2.0 (the \"License\");\n",
              "// you may not use this file except in compliance with the License.\n",
              "// You may obtain a copy of the License at\n",
              "//\n",
              "//      http://www.apache.org/licenses/LICENSE-2.0\n",
              "//\n",
              "// Unless required by applicable law or agreed to in writing, software\n",
              "// distributed under the License is distributed on an \"AS IS\" BASIS,\n",
              "// WITHOUT WARRANTIES OR CONDITIONS OF ANY KIND, either express or implied.\n",
              "// See the License for the specific language governing permissions and\n",
              "// limitations under the License.\n",
              "\n",
              "/**\n",
              " * @fileoverview Helpers for google.colab Python module.\n",
              " */\n",
              "(function(scope) {\n",
              "function span(text, styleAttributes = {}) {\n",
              "  const element = document.createElement('span');\n",
              "  element.textContent = text;\n",
              "  for (const key of Object.keys(styleAttributes)) {\n",
              "    element.style[key] = styleAttributes[key];\n",
              "  }\n",
              "  return element;\n",
              "}\n",
              "\n",
              "// Max number of bytes which will be uploaded at a time.\n",
              "const MAX_PAYLOAD_SIZE = 100 * 1024;\n",
              "\n",
              "function _uploadFiles(inputId, outputId) {\n",
              "  const steps = uploadFilesStep(inputId, outputId);\n",
              "  const outputElement = document.getElementById(outputId);\n",
              "  // Cache steps on the outputElement to make it available for the next call\n",
              "  // to uploadFilesContinue from Python.\n",
              "  outputElement.steps = steps;\n",
              "\n",
              "  return _uploadFilesContinue(outputId);\n",
              "}\n",
              "\n",
              "// This is roughly an async generator (not supported in the browser yet),\n",
              "// where there are multiple asynchronous steps and the Python side is going\n",
              "// to poll for completion of each step.\n",
              "// This uses a Promise to block the python side on completion of each step,\n",
              "// then passes the result of the previous step as the input to the next step.\n",
              "function _uploadFilesContinue(outputId) {\n",
              "  const outputElement = document.getElementById(outputId);\n",
              "  const steps = outputElement.steps;\n",
              "\n",
              "  const next = steps.next(outputElement.lastPromiseValue);\n",
              "  return Promise.resolve(next.value.promise).then((value) => {\n",
              "    // Cache the last promise value to make it available to the next\n",
              "    // step of the generator.\n",
              "    outputElement.lastPromiseValue = value;\n",
              "    return next.value.response;\n",
              "  });\n",
              "}\n",
              "\n",
              "/**\n",
              " * Generator function which is called between each async step of the upload\n",
              " * process.\n",
              " * @param {string} inputId Element ID of the input file picker element.\n",
              " * @param {string} outputId Element ID of the output display.\n",
              " * @return {!Iterable<!Object>} Iterable of next steps.\n",
              " */\n",
              "function* uploadFilesStep(inputId, outputId) {\n",
              "  const inputElement = document.getElementById(inputId);\n",
              "  inputElement.disabled = false;\n",
              "\n",
              "  const outputElement = document.getElementById(outputId);\n",
              "  outputElement.innerHTML = '';\n",
              "\n",
              "  const pickedPromise = new Promise((resolve) => {\n",
              "    inputElement.addEventListener('change', (e) => {\n",
              "      resolve(e.target.files);\n",
              "    });\n",
              "  });\n",
              "\n",
              "  const cancel = document.createElement('button');\n",
              "  inputElement.parentElement.appendChild(cancel);\n",
              "  cancel.textContent = 'Cancel upload';\n",
              "  const cancelPromise = new Promise((resolve) => {\n",
              "    cancel.onclick = () => {\n",
              "      resolve(null);\n",
              "    };\n",
              "  });\n",
              "\n",
              "  // Wait for the user to pick the files.\n",
              "  const files = yield {\n",
              "    promise: Promise.race([pickedPromise, cancelPromise]),\n",
              "    response: {\n",
              "      action: 'starting',\n",
              "    }\n",
              "  };\n",
              "\n",
              "  cancel.remove();\n",
              "\n",
              "  // Disable the input element since further picks are not allowed.\n",
              "  inputElement.disabled = true;\n",
              "\n",
              "  if (!files) {\n",
              "    return {\n",
              "      response: {\n",
              "        action: 'complete',\n",
              "      }\n",
              "    };\n",
              "  }\n",
              "\n",
              "  for (const file of files) {\n",
              "    const li = document.createElement('li');\n",
              "    li.append(span(file.name, {fontWeight: 'bold'}));\n",
              "    li.append(span(\n",
              "        `(${file.type || 'n/a'}) - ${file.size} bytes, ` +\n",
              "        `last modified: ${\n",
              "            file.lastModifiedDate ? file.lastModifiedDate.toLocaleDateString() :\n",
              "                                    'n/a'} - `));\n",
              "    const percent = span('0% done');\n",
              "    li.appendChild(percent);\n",
              "\n",
              "    outputElement.appendChild(li);\n",
              "\n",
              "    const fileDataPromise = new Promise((resolve) => {\n",
              "      const reader = new FileReader();\n",
              "      reader.onload = (e) => {\n",
              "        resolve(e.target.result);\n",
              "      };\n",
              "      reader.readAsArrayBuffer(file);\n",
              "    });\n",
              "    // Wait for the data to be ready.\n",
              "    let fileData = yield {\n",
              "      promise: fileDataPromise,\n",
              "      response: {\n",
              "        action: 'continue',\n",
              "      }\n",
              "    };\n",
              "\n",
              "    // Use a chunked sending to avoid message size limits. See b/62115660.\n",
              "    let position = 0;\n",
              "    do {\n",
              "      const length = Math.min(fileData.byteLength - position, MAX_PAYLOAD_SIZE);\n",
              "      const chunk = new Uint8Array(fileData, position, length);\n",
              "      position += length;\n",
              "\n",
              "      const base64 = btoa(String.fromCharCode.apply(null, chunk));\n",
              "      yield {\n",
              "        response: {\n",
              "          action: 'append',\n",
              "          file: file.name,\n",
              "          data: base64,\n",
              "        },\n",
              "      };\n",
              "\n",
              "      let percentDone = fileData.byteLength === 0 ?\n",
              "          100 :\n",
              "          Math.round((position / fileData.byteLength) * 100);\n",
              "      percent.textContent = `${percentDone}% done`;\n",
              "\n",
              "    } while (position < fileData.byteLength);\n",
              "  }\n",
              "\n",
              "  // All done.\n",
              "  yield {\n",
              "    response: {\n",
              "      action: 'complete',\n",
              "    }\n",
              "  };\n",
              "}\n",
              "\n",
              "scope.google = scope.google || {};\n",
              "scope.google.colab = scope.google.colab || {};\n",
              "scope.google.colab._files = {\n",
              "  _uploadFiles,\n",
              "  _uploadFilesContinue,\n",
              "};\n",
              "})(self);\n",
              "</script> "
            ]
          },
          "metadata": {}
        },
        {
          "output_type": "stream",
          "name": "stdout",
          "text": [
            "Saving NLP_Project.txt to NLP_Project.txt\n"
          ]
        }
      ]
    },
    {
      "cell_type": "markdown",
      "source": [
        "Load and pre-process the data\n"
      ],
      "metadata": {
        "id": "JPjuY1IOXz7_"
      }
    },
    {
      "cell_type": "code",
      "source": [
        "file = open(\"NLP_Project.txt\", \"r\", encoding=\"utf8\")\n",
        "#Store file in list\n",
        "lines =[]\n",
        "for i in file:\n",
        "    lines.append(i)\n",
        "\n",
        "#Convert list to string\n",
        "data = \"\"\n",
        "for i in lines:\n",
        "  data = ' '.join(lines)\n",
        "#replace unnecesasary stuff with space\n",
        "data = data.replace('\\n', '').replace('\\r', '').replace('\\ufeff', '').replace('\"','').replace('\"', '').replace('**', '').replace('*', '' ) #\n",
        "\n",
        "#remove Unnecessary spaces\n",
        "data = data.split()\n",
        "data = ''.join(data)\n",
        "data[:500]"
      ],
      "metadata": {
        "colab": {
          "base_uri": "https://localhost:8080/",
          "height": 87
        },
        "id": "7k31JryCXtnq",
        "outputId": "e579128e-6fb7-4a8b-b53b-08c8ae26ca76"
      },
      "execution_count": 10,
      "outputs": [
        {
          "output_type": "execute_result",
          "data": {
            "text/plain": [
              "'TheProjectGutenbergEBookofMetamorphosis,byFranzKafkaTranslatedbyDavidWyllie.ThiseBookisfortheuseofanyoneanywhereatnocostandwithalmostnorestrictionswhatsoever.Youmaycopyit,giveitawayorre-useitunderthetermsoftheProjectGutenbergLicenseincludedwiththiseBookoronlineatwww.gutenberg.orgThisisaCOPYRIGHTEDProjectGutenbergeBook,DetailsBelowPleasefollowthecopyrightguidelinesinthisfile.Title:MetamorphosisAuthor:FranzKafkaTranslator:DavidWyllieReleaseDate:August16,2005[EBook#5200]Firstposted:May13,2002Lastup'"
            ],
            "application/vnd.google.colaboratory.intrinsic+json": {
              "type": "string"
            }
          },
          "metadata": {},
          "execution_count": 10
        }
      ]
    },
    {
      "cell_type": "code",
      "source": [
        "#Length of the data\n",
        "len(data)"
      ],
      "metadata": {
        "colab": {
          "base_uri": "https://localhost:8080/"
        },
        "id": "eU6FP4eHaQxG",
        "outputId": "0d5bc0c5-ae92-47cd-8e5c-8cb26a16e5bb"
      },
      "execution_count": 12,
      "outputs": [
        {
          "output_type": "execute_result",
          "data": {
            "text/plain": [
              "112543"
            ]
          },
          "metadata": {},
          "execution_count": 12
        }
      ]
    },
    {
      "cell_type": "markdown",
      "source": [
        "Apply Tokenization"
      ],
      "metadata": {
        "id": "j84aqiKNbIqT"
      }
    },
    {
      "cell_type": "code",
      "source": [
        "tokenizer = Tokenizer()\n",
        "tokenizer.fit_on_texts([data])\n",
        "\n",
        "# saving the tokenizer for predict function\n",
        "pickle.dump(tokenizer, open('token.pkl', 'wb'))\n",
        "\n",
        "sequence_data = tokenizer.texts_to_sequences([data])[0]\n",
        "sequence_data[:15]\n",
        "\n"
      ],
      "metadata": {
        "colab": {
          "base_uri": "https://localhost:8080/"
        },
        "id": "UnP1T0HIa42q",
        "outputId": "2cfc2339-66ff-4a61-a251-ca6339feeebc"
      },
      "execution_count": 13,
      "outputs": [
        {
          "output_type": "execute_result",
          "data": {
            "text/plain": [
              "[105, 48, 49, 50, 51, 52, 15, 106, 107, 108, 109, 110, 111, 112, 113]"
            ]
          },
          "metadata": {},
          "execution_count": 13
        }
      ]
    },
    {
      "cell_type": "code",
      "source": [
        "len(sequence_data)"
      ],
      "metadata": {
        "colab": {
          "base_uri": "https://localhost:8080/"
        },
        "id": "ujguEA9lcGc6",
        "outputId": "2319ac0f-bb19-42df-8de9-d3e95a21dd6d"
      },
      "execution_count": 14,
      "outputs": [
        {
          "output_type": "execute_result",
          "data": {
            "text/plain": [
              "2930"
            ]
          },
          "metadata": {},
          "execution_count": 14
        }
      ]
    },
    {
      "cell_type": "code",
      "source": [
        "vocab_size = len(tokenizer.word_index) + 1\n",
        "vocab_size"
      ],
      "metadata": {
        "colab": {
          "base_uri": "https://localhost:8080/"
        },
        "id": "7vHuhLASeLBU",
        "outputId": "0bf01374-b3df-4c28-b1bb-8fa7be1b2fb6"
      },
      "execution_count": 15,
      "outputs": [
        {
          "output_type": "execute_result",
          "data": {
            "text/plain": [
              "2608"
            ]
          },
          "metadata": {},
          "execution_count": 15
        }
      ]
    },
    {
      "cell_type": "code",
      "source": [
        "sequences = []\n",
        "\n",
        "for i in range(3, len(sequence_data)):\n",
        "    words = sequence_data[i-3:i+1]\n",
        "    sequences.append(words)\n",
        "\n",
        "print(\" The Length of sequences are: \", len(sequences))\n",
        "sequences = np.array(sequences)\n",
        "sequences[:10]"
      ],
      "metadata": {
        "colab": {
          "base_uri": "https://localhost:8080/"
        },
        "id": "3cOg4PoOeeiu",
        "outputId": "1feded70-ee1c-4459-ee93-7ceaea8f39e3"
      },
      "execution_count": 16,
      "outputs": [
        {
          "output_type": "stream",
          "name": "stdout",
          "text": [
            " The Length of sequences are:  2927\n"
          ]
        },
        {
          "output_type": "execute_result",
          "data": {
            "text/plain": [
              "array([[105,  48,  49,  50],\n",
              "       [ 48,  49,  50,  51],\n",
              "       [ 49,  50,  51,  52],\n",
              "       [ 50,  51,  52,  15],\n",
              "       [ 51,  52,  15, 106],\n",
              "       [ 52,  15, 106, 107],\n",
              "       [ 15, 106, 107, 108],\n",
              "       [106, 107, 108, 109],\n",
              "       [107, 108, 109, 110],\n",
              "       [108, 109, 110, 111]])"
            ]
          },
          "metadata": {},
          "execution_count": 16
        }
      ]
    },
    {
      "cell_type": "code",
      "source": [
        "X = []\n",
        "y = []\n",
        "\n",
        "for i in sequences:\n",
        "    X.append(i[0:3])\n",
        "    y.append(i[3])\n",
        "\n",
        "X = np.array(X)\n",
        "y = np.array(y)"
      ],
      "metadata": {
        "id": "9EdzbrwWvth_"
      },
      "execution_count": 17,
      "outputs": []
    },
    {
      "cell_type": "code",
      "source": [
        "print(\"Data: \", X[:10])\n",
        "print(\"Response: \", y[:10])"
      ],
      "metadata": {
        "colab": {
          "base_uri": "https://localhost:8080/"
        },
        "id": "sWpJokRFwLhE",
        "outputId": "95f4caf0-212f-4b6e-acf0-52249fdd0059"
      },
      "execution_count": 18,
      "outputs": [
        {
          "output_type": "stream",
          "name": "stdout",
          "text": [
            "Data:  [[105  48  49]\n",
            " [ 48  49  50]\n",
            " [ 49  50  51]\n",
            " [ 50  51  52]\n",
            " [ 51  52  15]\n",
            " [ 52  15 106]\n",
            " [ 15 106 107]\n",
            " [106 107 108]\n",
            " [107 108 109]\n",
            " [108 109 110]]\n",
            "Response:  [ 50  51  52  15 106 107 108 109 110 111]\n"
          ]
        }
      ]
    },
    {
      "cell_type": "code",
      "source": [
        "y = to_categorical(y, num_classes=vocab_size)\n",
        "y[:5]"
      ],
      "metadata": {
        "colab": {
          "base_uri": "https://localhost:8080/"
        },
        "id": "jDL_aFmCwe5C",
        "outputId": "1639e454-2bc9-47f7-d574-dcda741db2a8"
      },
      "execution_count": 19,
      "outputs": [
        {
          "output_type": "execute_result",
          "data": {
            "text/plain": [
              "array([[0., 0., 0., ..., 0., 0., 0.],\n",
              "       [0., 0., 0., ..., 0., 0., 0.],\n",
              "       [0., 0., 0., ..., 0., 0., 0.],\n",
              "       [0., 0., 0., ..., 0., 0., 0.],\n",
              "       [0., 0., 0., ..., 0., 0., 0.]], dtype=float32)"
            ]
          },
          "metadata": {},
          "execution_count": 19
        }
      ]
    },
    {
      "cell_type": "code",
      "source": [
        "#from sklearn.model_selection import train_test_split\n",
        "\n",
        "# assume that your data is stored in two lists: X (input data) and y (output/target data)\n",
        "#X_train, X_test, y_train, y_test = train_test_split(X, y, test_size=0.2, random_state=42)\n"
      ],
      "metadata": {
        "id": "sLezKTrNyab8"
      },
      "execution_count": 20,
      "outputs": []
    },
    {
      "cell_type": "code",
      "source": [
        "# Define the model architecture\n",
        "model = Sequential()\n",
        "model.add(Embedding(vocab_size, output_dim=10, input_length=3))\n",
        "model.add(LSTM(1000, return_sequences=True))\n",
        "model.add(LSTM(1000))\n",
        "model.add(Dense(1000, activation=\"relu\"))\n",
        "model.add(Dense(units=vocab_size, activation='softmax'))\n",
        "\n"
      ],
      "metadata": {
        "id": "aNnGj9pJwxFI"
      },
      "execution_count": 21,
      "outputs": []
    },
    {
      "cell_type": "code",
      "source": [
        "model.summary()"
      ],
      "metadata": {
        "colab": {
          "base_uri": "https://localhost:8080/"
        },
        "id": "UZ6HcdeeyMMS",
        "outputId": "5b61613f-61ff-4763-bf6b-dd98a7b5f655"
      },
      "execution_count": 22,
      "outputs": [
        {
          "output_type": "stream",
          "name": "stdout",
          "text": [
            "Model: \"sequential\"\n",
            "_________________________________________________________________\n",
            " Layer (type)                Output Shape              Param #   \n",
            "=================================================================\n",
            " embedding (Embedding)       (None, 3, 10)             26080     \n",
            "                                                                 \n",
            " lstm (LSTM)                 (None, 3, 1000)           4044000   \n",
            "                                                                 \n",
            " lstm_1 (LSTM)               (None, 1000)              8004000   \n",
            "                                                                 \n",
            " dense (Dense)               (None, 1000)              1001000   \n",
            "                                                                 \n",
            " dense_1 (Dense)             (None, 2608)              2610608   \n",
            "                                                                 \n",
            "=================================================================\n",
            "Total params: 15,685,688\n",
            "Trainable params: 15,685,688\n",
            "Non-trainable params: 0\n",
            "_________________________________________________________________\n"
          ]
        }
      ]
    },
    {
      "cell_type": "code",
      "source": [
        "from tensorflow import keras\n",
        "from keras.utils.vis_utils import plot_model\n",
        "\n",
        "keras.utils.plot_model(model, to_file='plot.png', show_layer_names=True)"
      ],
      "metadata": {
        "colab": {
          "base_uri": "https://localhost:8080/",
          "height": 564
        },
        "id": "Cp5NI8wQpGQb",
        "outputId": "a4c21ce8-bd6b-4127-917c-513598290ed3"
      },
      "execution_count": 25,
      "outputs": [
        {
          "output_type": "execute_result",
          "data": {
            "image/png": "[encoded data removed]",
            "text/plain": [
              "<IPython.core.display.Image object>"
            ]
          },
          "metadata": {},
          "execution_count": 25
        }
      ]
    },
    {
      "cell_type": "code",
      "source": [
        "from tensorflow.keras.callbacks import ModelCheckpoint\n",
        "\n",
        "checkpoint = ModelCheckpoint(\"next_words.h5\", monitor='loss', verbose=1, save_best_only=True)\n",
        "model.compile(loss=\"categorical_crossentropy\", optimizer=Adam(learning_rate=0.001))\n",
        "model.fit(X, y, epochs=70, batch_size=64, callbacks=[checkpoint])"
      ],
      "metadata": {
        "colab": {
          "base_uri": "https://localhost:8080/"
        },
        "id": "kgYw3Jjdpcj-",
        "outputId": "efc91ff9-3ade-4190-d1cc-2e25dd38a0c4"
      },
      "execution_count": 26,
      "outputs": [
        {
          "output_type": "stream",
          "name": "stdout",
          "text": [
            "Epoch 1/70\n",
            "46/46 [==============================] - ETA: 0s - loss: 0.2679\n",
            "Epoch 1: loss improved from inf to 0.26788, saving model to next_words.h5\n",
            "46/46 [==============================] - 8s 76ms/step - loss: 0.2679\n",
            "Epoch 2/70\n",
            "46/46 [==============================] - ETA: 0s - loss: 0.1221\n",
            "Epoch 2: loss improved from 0.26788 to 0.12206, saving model to next_words.h5\n",
            "46/46 [==============================] - 1s 32ms/step - loss: 0.1221\n",
            "Epoch 3/70\n",
            "46/46 [==============================] - ETA: 0s - loss: 0.1115\n",
            "Epoch 3: loss improved from 0.12206 to 0.11146, saving model to next_words.h5\n",
            "46/46 [==============================] - 1s 29ms/step - loss: 0.1115\n",
            "Epoch 4/70\n",
            "46/46 [==============================] - ETA: 0s - loss: 0.1379\n",
            "Epoch 4: loss did not improve from 0.11146\n",
            "46/46 [==============================] - 1s 23ms/step - loss: 0.1379\n",
            "Epoch 5/70\n",
            "45/46 [============================>.] - ETA: 0s - loss: 0.2746\n",
            "Epoch 5: loss did not improve from 0.11146\n",
            "46/46 [==============================] - 1s 15ms/step - loss: 0.2767\n",
            "Epoch 6/70\n",
            "45/46 [============================>.] - ETA: 0s - loss: 0.4180\n",
            "Epoch 6: loss did not improve from 0.11146\n",
            "46/46 [==============================] - 1s 14ms/step - loss: 0.4216\n",
            "Epoch 7/70\n",
            "43/46 [===========================>..] - ETA: 0s - loss: 0.3434\n",
            "Epoch 7: loss did not improve from 0.11146\n",
            "46/46 [==============================] - 1s 13ms/step - loss: 0.3439\n",
            "Epoch 8/70\n",
            "46/46 [==============================] - ETA: 0s - loss: 0.2067\n",
            "Epoch 8: loss did not improve from 0.11146\n",
            "46/46 [==============================] - 1s 16ms/step - loss: 0.2067\n",
            "Epoch 9/70\n",
            "46/46 [==============================] - ETA: 0s - loss: 0.1658\n",
            "Epoch 9: loss did not improve from 0.11146\n",
            "46/46 [==============================] - 1s 16ms/step - loss: 0.1658\n",
            "Epoch 10/70\n",
            "45/46 [============================>.] - ETA: 0s - loss: 0.1297\n",
            "Epoch 10: loss did not improve from 0.11146\n",
            "46/46 [==============================] - 1s 13ms/step - loss: 0.1295\n",
            "Epoch 11/70\n",
            "45/46 [============================>.] - ETA: 0s - loss: 0.1096\n",
            "Epoch 11: loss improved from 0.11146 to 0.11142, saving model to next_words.h5\n",
            "46/46 [==============================] - 1s 23ms/step - loss: 0.1114\n",
            "Epoch 12/70\n",
            "43/46 [===========================>..] - ETA: 0s - loss: 0.0769\n",
            "Epoch 12: loss improved from 0.11142 to 0.07767, saving model to next_words.h5\n",
            "46/46 [==============================] - 1s 23ms/step - loss: 0.0777\n",
            "Epoch 13/70\n",
            "45/46 [============================>.] - ETA: 0s - loss: 0.0635\n",
            "Epoch 13: loss improved from 0.07767 to 0.06329, saving model to next_words.h5\n",
            "46/46 [==============================] - 1s 25ms/step - loss: 0.0633\n",
            "Epoch 14/70\n",
            "46/46 [==============================] - ETA: 0s - loss: 0.0549\n",
            "Epoch 14: loss improved from 0.06329 to 0.05489, saving model to next_words.h5\n",
            "46/46 [==============================] - 1s 28ms/step - loss: 0.0549\n",
            "Epoch 15/70\n",
            "45/46 [============================>.] - ETA: 0s - loss: 0.0509\n",
            "Epoch 15: loss improved from 0.05489 to 0.05032, saving model to next_words.h5\n",
            "46/46 [==============================] - 1s 25ms/step - loss: 0.0503\n",
            "Epoch 16/70\n",
            "46/46 [==============================] - ETA: 0s - loss: 0.0703\n",
            "Epoch 16: loss did not improve from 0.05032\n",
            "46/46 [==============================] - 1s 13ms/step - loss: 0.0703\n",
            "Epoch 17/70\n",
            "46/46 [==============================] - ETA: 0s - loss: 0.0619\n",
            "Epoch 17: loss did not improve from 0.05032\n",
            "46/46 [==============================] - 1s 13ms/step - loss: 0.0619\n",
            "Epoch 18/70\n",
            "44/46 [===========================>..] - ETA: 0s - loss: 0.0662\n",
            "Epoch 18: loss did not improve from 0.05032\n",
            "46/46 [==============================] - 1s 13ms/step - loss: 0.0664\n",
            "Epoch 19/70\n",
            "46/46 [==============================] - ETA: 0s - loss: 0.0953\n",
            "Epoch 19: loss did not improve from 0.05032\n",
            "46/46 [==============================] - 1s 15ms/step - loss: 0.0953\n",
            "Epoch 20/70\n",
            "45/46 [============================>.] - ETA: 0s - loss: 0.2124\n",
            "Epoch 20: loss did not improve from 0.05032\n",
            "46/46 [==============================] - 1s 17ms/step - loss: 0.2116\n",
            "Epoch 21/70\n",
            "43/46 [===========================>..] - ETA: 0s - loss: 0.2844\n",
            "Epoch 21: loss did not improve from 0.05032\n",
            "46/46 [==============================] - 1s 15ms/step - loss: 0.2950\n",
            "Epoch 22/70\n",
            "43/46 [===========================>..] - ETA: 0s - loss: 0.4512\n",
            "Epoch 22: loss did not improve from 0.05032\n",
            "46/46 [==============================] - 1s 14ms/step - loss: 0.4636\n",
            "Epoch 23/70\n",
            "46/46 [==============================] - ETA: 0s - loss: 0.4270\n",
            "Epoch 23: loss did not improve from 0.05032\n",
            "46/46 [==============================] - 1s 13ms/step - loss: 0.4270\n",
            "Epoch 24/70\n",
            "45/46 [============================>.] - ETA: 0s - loss: 0.3146\n",
            "Epoch 24: loss did not improve from 0.05032\n",
            "46/46 [==============================] - 1s 13ms/step - loss: 0.3155\n",
            "Epoch 25/70\n",
            "45/46 [============================>.] - ETA: 0s - loss: 0.1970\n",
            "Epoch 25: loss did not improve from 0.05032\n",
            "46/46 [==============================] - 1s 13ms/step - loss: 0.1963\n",
            "Epoch 26/70\n",
            "46/46 [==============================] - ETA: 0s - loss: 0.1076\n",
            "Epoch 26: loss did not improve from 0.05032\n",
            "46/46 [==============================] - 1s 16ms/step - loss: 0.1076\n",
            "Epoch 27/70\n",
            "44/46 [===========================>..] - ETA: 0s - loss: 0.1059\n",
            "Epoch 27: loss did not improve from 0.05032\n",
            "46/46 [==============================] - 1s 16ms/step - loss: 0.1062\n",
            "Epoch 28/70\n",
            "45/46 [============================>.] - ETA: 0s - loss: 0.0686\n",
            "Epoch 28: loss did not improve from 0.05032\n",
            "46/46 [==============================] - 1s 13ms/step - loss: 0.0679\n",
            "Epoch 29/70\n",
            "45/46 [============================>.] - ETA: 0s - loss: 0.0316\n",
            "Epoch 29: loss improved from 0.05032 to 0.03121, saving model to next_words.h5\n",
            "46/46 [==============================] - 1s 24ms/step - loss: 0.0312\n",
            "Epoch 30/70\n",
            "43/46 [===========================>..] - ETA: 0s - loss: 0.0251\n",
            "Epoch 30: loss improved from 0.03121 to 0.02451, saving model to next_words.h5\n",
            "46/46 [==============================] - 1s 24ms/step - loss: 0.0245\n",
            "Epoch 31/70\n",
            "45/46 [============================>.] - ETA: 0s - loss: 0.0157\n",
            "Epoch 31: loss improved from 0.02451 to 0.01625, saving model to next_words.h5\n",
            "46/46 [==============================] - 1s 23ms/step - loss: 0.0163\n",
            "Epoch 32/70\n",
            "45/46 [============================>.] - ETA: 0s - loss: 0.0141\n",
            "Epoch 32: loss improved from 0.01625 to 0.01388, saving model to next_words.h5\n",
            "46/46 [==============================] - 1s 24ms/step - loss: 0.0139\n",
            "Epoch 33/70\n",
            "44/46 [===========================>..] - ETA: 0s - loss: 0.0104\n",
            "Epoch 33: loss improved from 0.01388 to 0.01069, saving model to next_words.h5\n",
            "46/46 [==============================] - 1s 25ms/step - loss: 0.0107\n",
            "Epoch 34/70\n",
            "46/46 [==============================] - ETA: 0s - loss: 0.0087\n",
            "Epoch 34: loss improved from 0.01069 to 0.00867, saving model to next_words.h5\n",
            "46/46 [==============================] - 1s 26ms/step - loss: 0.0087\n",
            "Epoch 35/70\n",
            "43/46 [===========================>..] - ETA: 0s - loss: 0.0081\n",
            "Epoch 35: loss improved from 0.00867 to 0.00839, saving model to next_words.h5\n",
            "46/46 [==============================] - 1s 26ms/step - loss: 0.0084\n",
            "Epoch 36/70\n",
            "43/46 [===========================>..] - ETA: 0s - loss: 0.0057\n",
            "Epoch 36: loss improved from 0.00839 to 0.00623, saving model to next_words.h5\n",
            "46/46 [==============================] - 1s 26ms/step - loss: 0.0062\n",
            "Epoch 37/70\n",
            "45/46 [============================>.] - ETA: 0s - loss: 0.0057\n",
            "Epoch 37: loss improved from 0.00623 to 0.00561, saving model to next_words.h5\n",
            "46/46 [==============================] - 1s 26ms/step - loss: 0.0056\n",
            "Epoch 38/70\n",
            "46/46 [==============================] - ETA: 0s - loss: 0.0062\n",
            "Epoch 38: loss did not improve from 0.00561\n",
            "46/46 [==============================] - 1s 17ms/step - loss: 0.0062\n",
            "Epoch 39/70\n",
            "43/46 [===========================>..] - ETA: 0s - loss: 0.0056\n",
            "Epoch 39: loss improved from 0.00561 to 0.00530, saving model to next_words.h5\n",
            "46/46 [==============================] - 1s 22ms/step - loss: 0.0053\n",
            "Epoch 40/70\n",
            "45/46 [============================>.] - ETA: 0s - loss: 0.0059\n",
            "Epoch 40: loss did not improve from 0.00530\n",
            "46/46 [==============================] - 1s 14ms/step - loss: 0.0058\n",
            "Epoch 41/70\n",
            "46/46 [==============================] - ETA: 0s - loss: 0.0059\n",
            "Epoch 41: loss did not improve from 0.00530\n",
            "46/46 [==============================] - 1s 13ms/step - loss: 0.0059\n",
            "Epoch 42/70\n",
            "43/46 [===========================>..] - ETA: 0s - loss: 0.0067\n",
            "Epoch 42: loss did not improve from 0.00530\n",
            "46/46 [==============================] - 1s 13ms/step - loss: 0.0064\n",
            "Epoch 43/70\n",
            "45/46 [============================>.] - ETA: 0s - loss: 0.0050\n",
            "Epoch 43: loss improved from 0.00530 to 0.00493, saving model to next_words.h5\n",
            "46/46 [==============================] - 1s 23ms/step - loss: 0.0049\n",
            "Epoch 44/70\n",
            "45/46 [============================>.] - ETA: 0s - loss: 0.0052\n",
            "Epoch 44: loss did not improve from 0.00493\n",
            "46/46 [==============================] - 1s 13ms/step - loss: 0.0051\n",
            "Epoch 45/70\n",
            "46/46 [==============================] - ETA: 0s - loss: 0.0049\n",
            "Epoch 45: loss improved from 0.00493 to 0.00490, saving model to next_words.h5\n",
            "46/46 [==============================] - 1s 29ms/step - loss: 0.0049\n",
            "Epoch 46/70\n",
            "45/46 [============================>.] - ETA: 0s - loss: 0.0068\n",
            "Epoch 46: loss did not improve from 0.00490\n",
            "46/46 [==============================] - 1s 13ms/step - loss: 0.0067\n",
            "Epoch 47/70\n",
            "46/46 [==============================] - ETA: 0s - loss: 0.0046\n",
            "Epoch 47: loss improved from 0.00490 to 0.00464, saving model to next_words.h5\n",
            "46/46 [==============================] - 1s 23ms/step - loss: 0.0046\n",
            "Epoch 48/70\n",
            "43/46 [===========================>..] - ETA: 0s - loss: 0.0056\n",
            "Epoch 48: loss did not improve from 0.00464\n",
            "46/46 [==============================] - 1s 15ms/step - loss: 0.0053\n",
            "Epoch 49/70\n",
            "44/46 [===========================>..] - ETA: 0s - loss: 0.0049\n",
            "Epoch 49: loss did not improve from 0.00464\n",
            "46/46 [==============================] - 1s 16ms/step - loss: 0.0047\n",
            "Epoch 50/70\n",
            "45/46 [============================>.] - ETA: 0s - loss: 0.0053\n",
            "Epoch 50: loss did not improve from 0.00464\n",
            "46/46 [==============================] - 1s 15ms/step - loss: 0.0052\n",
            "Epoch 51/70\n",
            "44/46 [===========================>..] - ETA: 0s - loss: 0.0041\n",
            "Epoch 51: loss did not improve from 0.00464\n",
            "46/46 [==============================] - 1s 14ms/step - loss: 0.0053\n",
            "Epoch 52/70\n",
            "45/46 [============================>.] - ETA: 0s - loss: 0.0045\n",
            "Epoch 52: loss did not improve from 0.00464\n",
            "46/46 [==============================] - 1s 13ms/step - loss: 0.0050\n",
            "Epoch 53/70\n",
            "45/46 [============================>.] - ETA: 0s - loss: 0.0054\n",
            "Epoch 53: loss did not improve from 0.00464\n",
            "46/46 [==============================] - 1s 13ms/step - loss: 0.0053\n",
            "Epoch 54/70\n",
            "45/46 [============================>.] - ETA: 0s - loss: 0.0051\n",
            "Epoch 54: loss did not improve from 0.00464\n",
            "46/46 [==============================] - 1s 13ms/step - loss: 0.0050\n",
            "Epoch 55/70\n",
            "45/46 [============================>.] - ETA: 0s - loss: 0.0047\n",
            "Epoch 55: loss improved from 0.00464 to 0.00462, saving model to next_words.h5\n",
            "46/46 [==============================] - 1s 23ms/step - loss: 0.0046\n",
            "Epoch 56/70\n",
            "46/46 [==============================] - ETA: 0s - loss: 0.0048\n",
            "Epoch 56: loss did not improve from 0.00462\n",
            "46/46 [==============================] - 1s 17ms/step - loss: 0.0048\n",
            "Epoch 57/70\n",
            "46/46 [==============================] - ETA: 0s - loss: 0.0048\n",
            "Epoch 57: loss did not improve from 0.00462\n",
            "46/46 [==============================] - 1s 13ms/step - loss: 0.0048\n",
            "Epoch 58/70\n",
            "45/46 [============================>.] - ETA: 0s - loss: 0.0045\n",
            "Epoch 58: loss improved from 0.00462 to 0.00439, saving model to next_words.h5\n",
            "46/46 [==============================] - 1s 23ms/step - loss: 0.0044\n",
            "Epoch 59/70\n",
            "43/46 [===========================>..] - ETA: 0s - loss: 0.0049\n",
            "Epoch 59: loss did not improve from 0.00439\n",
            "46/46 [==============================] - 1s 14ms/step - loss: 0.0047\n",
            "Epoch 60/70\n",
            "45/46 [============================>.] - ETA: 0s - loss: 0.0048\n",
            "Epoch 60: loss did not improve from 0.00439\n",
            "46/46 [==============================] - 1s 13ms/step - loss: 0.0047\n",
            "Epoch 61/70\n",
            "44/46 [===========================>..] - ETA: 0s - loss: 0.0047\n",
            "Epoch 61: loss did not improve from 0.00439\n",
            "46/46 [==============================] - 1s 13ms/step - loss: 0.0046\n",
            "Epoch 62/70\n",
            "46/46 [==============================] - ETA: 0s - loss: 0.0043\n",
            "Epoch 62: loss improved from 0.00439 to 0.00432, saving model to next_words.h5\n",
            "46/46 [==============================] - 1s 23ms/step - loss: 0.0043\n",
            "Epoch 63/70\n",
            "45/46 [============================>.] - ETA: 0s - loss: 0.0050\n",
            "Epoch 63: loss did not improve from 0.00432\n",
            "46/46 [==============================] - 1s 13ms/step - loss: 0.0049\n",
            "Epoch 64/70\n",
            "44/46 [===========================>..] - ETA: 0s - loss: 0.0060\n",
            "Epoch 64: loss did not improve from 0.00432\n",
            "46/46 [==============================] - 1s 14ms/step - loss: 0.0058\n",
            "Epoch 65/70\n",
            "46/46 [==============================] - ETA: 0s - loss: 0.0041\n",
            "Epoch 65: loss improved from 0.00432 to 0.00407, saving model to next_words.h5\n",
            "46/46 [==============================] - 1s 27ms/step - loss: 0.0041\n",
            "Epoch 66/70\n",
            "43/46 [===========================>..] - ETA: 0s - loss: 0.0036\n",
            "Epoch 66: loss did not improve from 0.00407\n",
            "46/46 [==============================] - 1s 15ms/step - loss: 0.0045\n",
            "Epoch 67/70\n",
            "44/46 [===========================>..] - ETA: 0s - loss: 0.0048\n",
            "Epoch 67: loss did not improve from 0.00407\n",
            "46/46 [==============================] - 1s 15ms/step - loss: 0.0050\n",
            "Epoch 68/70\n",
            "46/46 [==============================] - ETA: 0s - loss: 0.0048\n",
            "Epoch 68: loss did not improve from 0.00407\n",
            "46/46 [==============================] - 1s 13ms/step - loss: 0.0048\n",
            "Epoch 69/70\n",
            "46/46 [==============================] - ETA: 0s - loss: 0.0047\n",
            "Epoch 69: loss did not improve from 0.00407\n",
            "46/46 [==============================] - 1s 13ms/step - loss: 0.0047\n",
            "Epoch 70/70\n",
            "45/46 [============================>.] - ETA: 0s - loss: 0.0047\n",
            "Epoch 70: loss did not improve from 0.00407\n",
            "46/46 [==============================] - 1s 16ms/step - loss: 0.0046\n"
          ]
        },
        {
          "output_type": "execute_result",
          "data": {
            "text/plain": [
              "<keras.callbacks.History at 0x7fbf311df700>"
            ]
          },
          "metadata": {},
          "execution_count": 26
        }
      ]
    },
    {
      "cell_type": "code",
      "source": [
        "# Test the model\n",
        "loss = model.evaluate(X, y, batch_size=64)\n",
        "print(f\"Test loss: {loss}\")"
      ],
      "metadata": {
        "colab": {
          "base_uri": "https://localhost:8080/"
        },
        "id": "Oxx3pfE1txUf",
        "outputId": "802355fd-545d-412b-e628-aa094ba0283a"
      },
      "execution_count": 31,
      "outputs": [
        {
          "output_type": "stream",
          "name": "stdout",
          "text": [
            "46/46 [==============================] - 0s 8ms/step - loss: 0.0033\n",
            "Test loss: 0.003308079903945327\n"
          ]
        }
      ]
    },
    {
      "cell_type": "code",
      "source": [
        "from tensorflow.keras.models import load_model\n",
        "import numpy as np\n",
        "import pickle\n",
        "\n",
        "# Load the model and tokenizer\n",
        "model = load_model('next_words.h5')\n",
        "tokenizer = pickle.load(open('token.pkl', 'rb'))\n",
        "\n",
        "def Predict_Next_Words(model, tokenizer, text):\n",
        "\n",
        "  sequence = tokenizer.texts_to_sequences([text])\n",
        "  sequence = np.array(sequence)\n",
        "  preds = np.argmax(model.predict(sequence))\n",
        "  predicted_word = \"\"\n",
        "  \n",
        "  for key, value in tokenizer.word_index.items():\n",
        "      if value == preds:\n",
        "          predicted_word = key\n",
        "          break\n",
        "  \n",
        "  print(predicted_word)\n",
        "  return predicted_word"
      ],
      "metadata": {
        "id": "k7AMZYLz-Osz"
      },
      "execution_count": 32,
      "outputs": []
    },
    {
      "cell_type": "code",
      "source": [
        "while(True):\n",
        "  text = input(\"Enter your line: \")\n",
        "  \n",
        "  if text == \"0\":\n",
        "      print(\"Execution completed.....\")\n",
        "      break\n",
        "  \n",
        "  else:\n",
        "      try:\n",
        "          text = text.split(\" \")\n",
        "          text = text[-3:]\n",
        "          print(text)\n",
        "        \n",
        "          Predict_Next_Words(model, tokenizer, text)\n",
        "          \n",
        "      except Exception as e:\n",
        "        print(\"Error occurred: \",e)\n",
        "        continue"
      ],
      "metadata": {
        "colab": {
          "base_uri": "https://localhost:8080/"
        },
        "id": "V2HhJlu4-XDQ",
        "outputId": "f919f932-6ff0-48f9-c3c8-3022f8ac4d70"
      },
      "execution_count": 33,
      "outputs": [
        {
          "output_type": "stream",
          "name": "stdout",
          "text": [
            "Enter your line: The Project Gutenberg\n",
            "['The', 'Project', 'Gutenberg']\n",
            "1/1 [==============================] - 1s 657ms/step\n",
            "1\n",
            "Enter your line: This eBook is\n",
            "['This', 'eBook', 'is']\n",
            "1/1 [==============================] - 1s 639ms/step\n",
            "gregor'ssisterwouldleaveherworktohelphermother\n",
            "Enter your line: 0\n",
            "Execution completed.....\n"
          ]
        }
      ]
    },
    {
      "cell_type": "code",
      "source": [],
      "metadata": {
        "id": "Z3OQFe5UpQuv"
      },
      "execution_count": null,
      "outputs": []
    }
  ]
}